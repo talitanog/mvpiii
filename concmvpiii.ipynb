{
  "nbformat": 4,
  "nbformat_minor": 0,
  "metadata": {
    "colab": {
      "private_outputs": true,
      "provenance": [],
      "collapsed_sections": [
        "5rE37CbJvvAh"
      ],
      "authorship_tag": "ABX9TyPTX6aFdZUCE0v3J81lTT0s",
      "include_colab_link": true
    },
    "kernelspec": {
      "name": "python3",
      "display_name": "Python 3"
    },
    "language_info": {
      "name": "python"
    }
  },
  "cells": [
    {
      "cell_type": "markdown",
      "metadata": {
        "id": "view-in-github",
        "colab_type": "text"
      },
      "source": [
        "<a href=\"https://colab.research.google.com/github/talitanog/mvpiii/blob/main/concmvpiii.ipynb\" target=\"_parent\"><img src=\"https://colab.research.google.com/assets/colab-badge.svg\" alt=\"Open In Colab\"/></a>"
      ]
    },
    {
      "cell_type": "markdown",
      "source": [
        "# **O PROBLEMA: Análise de Dados de Restrição de Geração de Usinas Eólicas**"
      ],
      "metadata": {
        "id": "DtWWNbmCqmMQ"
      }
    },
    {
      "cell_type": "markdown",
      "source": [
        "**Constrained off** é uma situação em que há uma redução na geração de energia por razões operacionais, podendo ser causada por diversos fatores: Restrições de transmissão, Falhas em equipamentos, Demanda excessiva, Condições climáticas adversas.\n",
        "O constrained off pode levar a: Interrupções no fornecimento de energia, Aumento dos custos de produção, Problemas de estabilidade no sistema elétrico."
      ],
      "metadata": {
        "id": "3KhfpjlvvKyH"
      }
    },
    {
      "cell_type": "markdown",
      "source": [
        "Constrained Off de Eólicas é um assunto que está em alta no setor elétrico com várias discussões sobre a compensação que os agentes lutam pelo direito de ter quando submetidos às restrições impostas pelas razões operacionais.\n",
        "Os Agentes eólicos e fotovoltaicos reclamam que os os cortes de geração mais frequentes e intensos tem gerados prejuizos financeiros e a viabilidade economica da instalação.\n",
        "Esses cortes aumentaram principalmente após o último apagão iniciado no Nordeste.\n",
        "O pleito dos agentes e a regulação da ANEEL estão sendo analisados na justiça.\n"
      ],
      "metadata": {
        "id": "jbGJG4Fmqx9k"
      }
    },
    {
      "cell_type": "markdown",
      "source": [
        "Nesse trabalho iremos analisar os dados de geração dos Estados que são os maiores produtores de emergia eólica no Brasil e que possuem instalações que são despachadas centralizadamente pelo ONS, serão apresentadas:\n",
        "\n",
        "\n",
        "\n",
        "1. As regiões que possuem maior geração (**val_geracao**) eólica, ou seja, são instalações que possuem aerogeradores que tem a função de transformar energia do vento em energia elétrica;\n",
        "2. A disponibilidade (**val_disponibilidade**) de geração que essas regiões tinham antes de sofrer a restrição, ou seja, o constrained off;\n",
        "3. Irei apresentar a distribuição das restrições aplicada, podendo ser:\n",
        "\n",
        "    3.1. Restrição por razão de disponibilidade externa (**REL**) - restrição de geração motivada por indisponibilidades em instalações externas às respectivas usinas/conjuntos de usinas eolioelétricas fotovoltaicas.\n",
        "\n",
        "    3.2. Restrição por razão de atendimento a requisitos de confiabilidade elétrica (**CNF**) – restrição de geração motivada por razões de confiabilidade elétrica dos equipamentos pertencentes a instalações externas às respectivas usinas/conjuntos de usinas eolioelétricas/ fotovoltaicas e que não tenham origem em indisponibilidades dos respectivos equipamentos.\n",
        "\n",
        "    3.3. Restrição por razão energética (**ENE**) - restrição de geração motivada pela impossibilidade de alocação de geração de energia na carga.\n",
        "\n",
        "    3.4. Restrição por razão de indisponibilidade externa indicada no parecer de acesso (**PAR**) – restrição degeração vigente indicada no parecer de acesso das usinas/conjuntos de usinas eolioelétricas ou fotovoltaicas.\n",
        "\n",
        "4. E quais são as distribuições das causas das restrições, ou seja, a origem\n",
        "\n",
        "    4.1. Restrição de geração sistêmica (**SIS**) é imposta por limitação no sistema de transmissão decorrente de intervenções no SIN (indisponibilidades programadas e não programadas) ou confiabilidade elétrica em subsistema diferente do empreendimento de geração ou por razão energética.\n",
        "\n",
        "    4.2. Restrição de geração local (**LOC**) é imposta por limitação no sistema de transmissão decorrente de intervenções no SIN (indisponibilidades programadas e não programadas) ou confiabilidade elétrica no mesmo subsistema do empreendimento de geração."
      ],
      "metadata": {
        "id": "bDDSecjXTkV1"
      }
    },
    {
      "cell_type": "markdown",
      "source": [
        "# **O PROBLEMA: Conceitos**"
      ],
      "metadata": {
        "id": "W11aR0BZrthc"
      }
    },
    {
      "cell_type": "markdown",
      "source": [
        "**Geração–verificada** - Geração Verificada das usinas que são medidos pelos sistemas de medição da supervisão ONS.\n",
        "\n",
        "**Geração–limitada** - Geração despachada pelo ONS, a geração informada pelo ONS para atendimento às necessidades do SIN.\n",
        "\n",
        "**Disponibilidade** - Disponibilidade declarada de geração, ou seja, o quanto a usina term condições de fornecer para o Sistema Interligado Nacional.\n",
        "\n",
        "**Subsistemas** - Os subsistemas do Sistema Interligado Nacional (SIN) são:\n",
        "Subsistema Sudeste/Centro-Oeste (SE/CO): Abrange as regiões do Sudeste e Centro-Oeste, além dos estados do Acre e Rondônia\n",
        "Subsistema Sul (S): Corresponde à região sul do país\n",
        "Subsistema Nordeste (NE): Engloba a região nordeste, exceto o Maranhão\n",
        "Subsistema Norte (N): Abrange os estados do Amazonas, Amapá, Maranhão, Pará e Tocantins\n",
        "\n"
      ],
      "metadata": {
        "id": "tUQQCUU5ryER"
      }
    },
    {
      "cell_type": "markdown",
      "source": [
        "# **O PROBLEMA: Qual é a descrição?**"
      ],
      "metadata": {
        "id": "YBVJjFeXmerm"
      }
    },
    {
      "cell_type": "markdown",
      "source": [
        "A intenção desse trabalho é analisar e responder os seguintes pontos:\n",
        "\n",
        "\n",
        "*   Qual o Subsistema com maior geração eólica no ano?\n",
        "*   Qual o Estado com maior geração eólica no ano?\n",
        "*   Qual a Disponibilidade por Subsistema no ano?\n",
        "*   Qual a Disponibilidade por Estado no ano?\n",
        "*   Qual a relação de Geração Verificada x Disponibilidade por Subsistema?\n",
        "*   Qual a relação de Geração Verificada x Disponibilidade por Estado?\n",
        "*   Qual a relação da Geração Limitada x Disponibilidade por Estado?\n",
        "*   Qual a relação de Geração Verificada x Geração Limitada x Disponibilidade por Estado?\n",
        "*   Quais são as maiores causas de restrições sofridas?\n",
        "*   Qual a origem mais comum dessas restrições?\n",
        "*   Como as restrições estão distribuidas no tempo?\n",
        "*   Qual o Estado mais atingido com as restrições?\n",
        "*   Qual a causa da restrição mais comum que atingiu esse Estado?\n",
        "\n",
        "\n",
        "\n",
        "\n",
        "\n",
        "\n"
      ],
      "metadata": {
        "id": "tX2absz_mh5y"
      }
    },
    {
      "cell_type": "markdown",
      "source": [
        "# **O PROBLEMA: Que premissas ou hipóteses você tem sobre o problema?**"
      ],
      "metadata": {
        "id": "DJGFlvWu8s-T"
      }
    },
    {
      "cell_type": "markdown",
      "source": [
        "Iremos tratar apenas as usinas eólicas nesse trabalho, deixando a fotovoltaica para um segundo momento.\n",
        "Não iremos considerar na nossa análise os agentes individualmente e as gerações de referência porque envolvem outros dados que não estão presentes no dataset.\n",
        "Um das possibilidades que tinha em mente é que todos os Estados são afetados igualmente pelas restrições elétricas aplicadas, por isso iremos manter análise por estado e por subsistemas."
      ],
      "metadata": {
        "id": "QIGox5ZO9C9k"
      }
    },
    {
      "cell_type": "markdown",
      "source": [
        "# **O PROBLEMA: Que restrições ou condições foram impostas para selecionar os dados?**"
      ],
      "metadata": {
        "id": "x1gD_uU991Z6"
      }
    },
    {
      "cell_type": "markdown",
      "source": [
        "Foram selecionados todos os dados disponíveis no portal de dados abertos do ONS apenas para usinas eólicas. Deixamos de fora as usinas fotovoltaicas.\n",
        "Segue caminho:\n",
        "https://dados.ons.org.br/dataset/restricao_coff_eolica_usi"
      ],
      "metadata": {
        "id": "1RKye6Zl-B5o"
      }
    },
    {
      "cell_type": "markdown",
      "source": [
        "# **O PROBLEMA: Defina cada um dos atributos do dataset**"
      ],
      "metadata": {
        "id": "dsOBEZjr-tCe"
      }
    },
    {
      "cell_type": "markdown",
      "source": [
        "Conceitualmente expliquei acima os atributos do dataset"
      ],
      "metadata": {
        "id": "RsUFQ-qb-1lc"
      }
    },
    {
      "cell_type": "markdown",
      "source": [
        "Os dados que serão utilizados como dataset são os dados de geração verificada, geração limitada, disponibilidade e razões de restrição de usinas eólicas dos últimos 2 anos.\n",
        "Anexo o dicionário de dados do dataset utilizado /content/Dados/DicionarioDados_RestricaoContrainedoff_UsiEolicas.pdf"
      ],
      "metadata": {
        "id": "IN7xzOu9_Brl"
      }
    },
    {
      "cell_type": "markdown",
      "source": [
        "# **1. Importando as bibliotecas necessárias para executar o notebook**"
      ],
      "metadata": {
        "id": "ncSpQdDZuCAm"
      }
    },
    {
      "cell_type": "code",
      "source": [
        "# Imports\n",
        "import pandas as pd\n",
        "import geopandas as gpd\n",
        "import numpy as np\n",
        "import matplotlib\n",
        "import matplotlib.pyplot as plt\n",
        "import seaborn as sns\n",
        "import pandas as pd\n",
        "import os\n",
        "import glob\n",
        "import missingno as ms # para tratamento de missings\n",
        "from joblib import Parallel, delayed\n",
        "from matplotlib import cm\n",
        "from pandas import set_option\n",
        "from pandas.plotting import scatter_matrix\n",
        "from sklearn.preprocessing import StandardScaler\n",
        "from sklearn.preprocessing import MinMaxScaler\n",
        "from sklearn.preprocessing import LabelEncoder\n",
        "from sklearn.model_selection import train_test_split\n",
        "from sklearn.model_selection import KFold\n",
        "from sklearn.model_selection import StratifiedKFold\n",
        "from sklearn.model_selection import cross_val_score\n",
        "from sklearn.model_selection import GridSearchCV\n",
        "from sklearn.model_selection import cross_validate\n",
        "from sklearn.svm import SVR\n",
        "from sklearn.metrics import classification_report\n",
        "from sklearn.metrics import confusion_matrix\n",
        "from sklearn.metrics import accuracy_score\n",
        "from sklearn.metrics import make_scorer, mean_absolute_error, r2_score\n",
        "from sklearn.metrics import mean_squared_error\n",
        "from sklearn.pipeline import Pipeline\n",
        "from sklearn.linear_model import LogisticRegression\n",
        "from sklearn.linear_model import LinearRegression, Ridge, Lasso\n",
        "from sklearn.neighbors import KNeighborsRegressor\n",
        "from sklearn.tree import DecisionTreeClassifier\n",
        "from sklearn.tree import DecisionTreeRegressor\n",
        "from sklearn.neighbors import KNeighborsClassifier\n",
        "from sklearn.naive_bayes import GaussianNB\n",
        "from sklearn.svm import SVC\n",
        "from sklearn.preprocessing import StandardScaler\n",
        "from sklearn.ensemble import BaggingClassifier\n",
        "from sklearn.ensemble import RandomForestClassifier\n",
        "from sklearn.ensemble import ExtraTreesClassifier\n",
        "from sklearn.ensemble import VotingClassifier\n",
        "from sklearn.ensemble import AdaBoostClassifier\n",
        "from sklearn.ensemble import GradientBoostingClassifier"
      ],
      "metadata": {
        "id": "YGLak8lTuEKZ"
      },
      "execution_count": null,
      "outputs": []
    },
    {
      "cell_type": "code",
      "source": [
        "!pip install geopandas matplotlib"
      ],
      "metadata": {
        "id": "snN0xify6nRx"
      },
      "execution_count": null,
      "outputs": []
    },
    {
      "cell_type": "markdown",
      "source": [
        "# **2. Configuração para não exibir warnings**"
      ],
      "metadata": {
        "id": "j_-zatVYuTSo"
      }
    },
    {
      "cell_type": "code",
      "source": [
        "# configuração para não exibir os warnings\n",
        "import warnings"
      ],
      "metadata": {
        "id": "JF5haak_uZVf"
      },
      "execution_count": null,
      "outputs": []
    },
    {
      "cell_type": "markdown",
      "source": [
        "# **3. Acessando dataset que será utilizado**"
      ],
      "metadata": {
        "id": "XpgDX4N8uupz"
      }
    },
    {
      "cell_type": "markdown",
      "source": [
        "Abaixo, estou carregando os dados de mapas do IBGE, pois minha análise será baseada nos Estados Brasileiros."
      ],
      "metadata": {
        "id": "S8jpw_3c0rsj"
      }
    },
    {
      "cell_type": "code",
      "source": [
        "shapefile_brasil = '/content/Mapa/BR_UF_2022.shp'\n",
        "\n",
        "# Carregar o shapefile dos estados do Brasil\n",
        "brasil_map = gpd.read_file(shapefile_brasil)\n",
        "\n",
        "# Exibir o mapa carregado\n",
        "brasil_map.plot()"
      ],
      "metadata": {
        "id": "lZHVkD2T6wpe"
      },
      "execution_count": null,
      "outputs": []
    },
    {
      "cell_type": "markdown",
      "source": [
        "Importação e concatenação dos arquivos de geração que estão no formato xlsx."
      ],
      "metadata": {
        "id": "1wssbBoW0-qS"
      }
    },
    {
      "cell_type": "code",
      "source": [
        "# Caminho para o diretório que contém os arquivos Excel (.xlsx)\n",
        "caminho_dos_arquivos = '/content/Dados/*.xlsx'  # Adiciona *.xlsx para localizar arquivos Excel\n",
        "\n",
        "# Localiza todos os arquivos Excel no diretório\n",
        "arquivos_excel = glob.glob(caminho_dos_arquivos)\n",
        "\n",
        "# Carregar todos os arquivos Excel em uma lista de DataFrames\n",
        "dataframes = [pd.read_excel(arquivo) for arquivo in arquivos_excel]\n",
        "\n",
        "# Concatenar todos os DataFrames em um único DataFrame\n",
        "df_concatenado = pd.concat(dataframes, ignore_index=True)\n",
        "\n",
        "# Exibir o DataFrame concatenado\n",
        "df_concatenado.head()"
      ],
      "metadata": {
        "id": "zFZcCWD4uwxW"
      },
      "execution_count": null,
      "outputs": []
    },
    {
      "cell_type": "markdown",
      "source": [
        "# **3.1 Tratando dados lidos - ANÁLISE DE DADOS**"
      ],
      "metadata": {
        "id": "yxPYBiwIvGIg"
      }
    },
    {
      "cell_type": "markdown",
      "source": [
        "o\tQuantos atributos e instâncias existem?"
      ],
      "metadata": {
        "id": "l9sbmTSRAM8y"
      }
    },
    {
      "cell_type": "code",
      "source": [
        "num_instancias, num_atributos = df.shape\n",
        "\n",
        "print(f'Número de instâncias (linhas): {num_instancias}')\n",
        "print(f'Número de atributos (colunas): {num_atributos}')"
      ],
      "metadata": {
        "id": "mKyG0JYlAGfB"
      },
      "execution_count": null,
      "outputs": []
    },
    {
      "cell_type": "markdown",
      "source": [
        "o\tQuais são os tipos de dados dos atributos?"
      ],
      "metadata": {
        "id": "5rE37CbJvvAh"
      }
    },
    {
      "cell_type": "code",
      "source": [
        "df = pd.DataFrame(df_concatenado)\n",
        "print(df.dtypes)"
      ],
      "metadata": {
        "id": "tNNOWimzviX3"
      },
      "execution_count": null,
      "outputs": []
    },
    {
      "cell_type": "markdown",
      "source": [
        "Converte a coluna 'din_instante' para o tipo datetime"
      ],
      "metadata": {
        "id": "bHpEZ3F1vyiH"
      }
    },
    {
      "cell_type": "code",
      "source": [
        "df_concatenado['din_instante'] = pd.to_datetime(df_concatenado['din_instante'])\n",
        "\n",
        "print(df_concatenado.dtypes)"
      ],
      "metadata": {
        "id": "Cba-XpBdvsJb"
      },
      "execution_count": null,
      "outputs": []
    },
    {
      "cell_type": "code",
      "source": [
        "df_concatenado.head()"
      ],
      "metadata": {
        "id": "RryGwsVaw1P2"
      },
      "execution_count": null,
      "outputs": []
    },
    {
      "cell_type": "markdown",
      "source": [
        "o  Abaixo tratamento para dados que chamaram atenção na análise inicial, incluisive para valores faltantes, discrepantes e inconsistentes."
      ],
      "metadata": {
        "id": "wd4sgAbcAnje"
      }
    },
    {
      "cell_type": "markdown",
      "source": [
        "Exclusão da coluna _id e id_ons por não interferir na análise."
      ],
      "metadata": {
        "id": "U29d2gitxCOP"
      }
    },
    {
      "cell_type": "code",
      "source": [
        "df_concatenado = df_concatenado.drop(columns=['_id'])\n",
        "df_concatenado = df_concatenado.drop(columns=['id_ons'])\n",
        "\n",
        "print(df_concatenado.head())"
      ],
      "metadata": {
        "id": "p2YXR4cOxA8z"
      },
      "execution_count": null,
      "outputs": []
    },
    {
      "cell_type": "markdown",
      "source": [
        "Exclusão da coluna código ceg por não interferir na análise"
      ],
      "metadata": {
        "id": "nGgKwF8axZrC"
      }
    },
    {
      "cell_type": "code",
      "source": [
        "df_concatenado = df_concatenado.drop(columns=['ceg'])\n",
        "\n",
        "print(df_concatenado.head())"
      ],
      "metadata": {
        "id": "QLxZXSFqxx9X"
      },
      "execution_count": null,
      "outputs": []
    },
    {
      "cell_type": "markdown",
      "source": [
        "Exclusão da coluna Geração de Referência e Geração de Referência Final"
      ],
      "metadata": {
        "id": "JZu-imNKzM-o"
      }
    },
    {
      "cell_type": "code",
      "source": [
        "\n",
        "df_concatenado = df_concatenado.drop(columns=['val_geracaoreferencia'])\n",
        "df_concatenado = df_concatenado.drop(columns=['val_geracaoreferenciafinal'])\n",
        "\n",
        "print(df_concatenado.head())"
      ],
      "metadata": {
        "id": "lyVJRPyQzPgw"
      },
      "execution_count": null,
      "outputs": []
    },
    {
      "cell_type": "markdown",
      "source": [
        "Tratamento de valores negativos em val_disponibilidade"
      ],
      "metadata": {
        "id": "JjZznX304AKm"
      }
    },
    {
      "cell_type": "code",
      "source": [
        "quantidade_negativos = (df_concatenado['val_disponibilidade'] < 0).sum()\n",
        "\n",
        "# Exibir o resultado\n",
        "print(f\"Quantidade de registros negativos em 'val_disponibilidade': {quantidade_negativos}\")"
      ],
      "metadata": {
        "id": "G2S80c1V4Sxa"
      },
      "execution_count": null,
      "outputs": []
    },
    {
      "cell_type": "code",
      "source": [
        "# Excluir registros onde 'val_disponibilidade' é negativa\n",
        "df_concatenado = df_concatenado[df_concatenado['val_disponibilidade'] >= 0]\n",
        "\n",
        "# Exibir o DataFrame resultante\n",
        "print(df_concatenado)"
      ],
      "metadata": {
        "id": "m_pM2A_C4VKH"
      },
      "execution_count": null,
      "outputs": []
    },
    {
      "cell_type": "markdown",
      "source": [
        "Tratamentos de nulos"
      ],
      "metadata": {
        "id": "MnS0SDa4x3KD"
      }
    },
    {
      "cell_type": "markdown",
      "source": [
        "Para os registros das colunas Razão elétrica e Origem da Restrição que forem nulos será incluida a informação 'SRE', ou seja, SEM RESTRIÇÃO ELÉTRICA."
      ],
      "metadata": {
        "id": "nxYueHhEyXD8"
      }
    },
    {
      "cell_type": "code",
      "source": [
        "# Preenche valores nulos na coluna 'cod_razaorestricao' com 'SRE'\n",
        "df_concatenado['cod_razaorestricao'] = df_concatenado['cod_razaorestricao'].fillna('SRE')\n",
        "\n",
        "# Preenche valores nulos na coluna 'cod_origemrestricao' com 'SRE'\n",
        "df_concatenado['cod_origemrestricao'] = df_concatenado['cod_origemrestricao'].fillna('SRE')\n",
        "\n",
        "# Verifique se os valores foram preenchidos corretamente\n",
        "print(df_concatenado[['cod_razaorestricao', 'cod_origemrestricao']].head())"
      ],
      "metadata": {
        "id": "OemNoUCFyyp0"
      },
      "execution_count": null,
      "outputs": []
    },
    {
      "cell_type": "code",
      "source": [
        "# Verificar se ainda há valores nulos nas colunas 'cod_razaorestricao' e 'cod_origemrestricao'\n",
        "nulos_razao = df_concatenado['cod_razaorestricao'].isnull().sum()\n",
        "nulos_origem = df_concatenado['cod_origemrestricao'].isnull().sum()\n",
        "\n",
        "print(f\"Nulos em cod_razaorestricao: {nulos_razao}\")\n",
        "print(f\"Nulos em cod_origemrestricao: {nulos_origem}\")"
      ],
      "metadata": {
        "id": "p9wS1a7FzHf5"
      },
      "execution_count": null,
      "outputs": []
    },
    {
      "cell_type": "markdown",
      "source": [
        "Excluir os registros nulos das colunas val_geracaolimitada"
      ],
      "metadata": {
        "id": "uS2vGVcjzW26"
      }
    },
    {
      "cell_type": "markdown",
      "source": [
        "Vamos excluir os registros nulos de geração limitada, pois nossa intenção é analisar justamente o momento em que houve limitação de geração."
      ],
      "metadata": {
        "id": "AFLdim2s2SDv"
      }
    },
    {
      "cell_type": "code",
      "source": [
        "# Excluir linhas com valores nulos nas colunas especificadas\n",
        "df_concatenado = df_concatenado.dropna(subset=['val_geracaolimitada', 'val_geracao', 'val_disponibilidade'])\n",
        "\n",
        "# Verifique se as linhas foram excluídas corretamente\n",
        "print(f\"Tamanho do DataFrame após exclusão de nulos: {df_concatenado.shape}\")\n",
        "\n",
        "# Verificar se ainda há valores nulos na coluna 'val_geracaolimitada'\n",
        "nulos_geracaolimitada = df_concatenado['val_geracaolimitada'].isnull().sum()\n",
        "print(f\"Nulos em val_geracaolimitada: {nulos_geracaolimitada}\")\n"
      ],
      "metadata": {
        "id": "IrK6dnzozXzf"
      },
      "execution_count": null,
      "outputs": []
    },
    {
      "cell_type": "code",
      "source": [
        "print(df_concatenado.head())"
      ],
      "metadata": {
        "id": "HPQHE5A8zt6q"
      },
      "execution_count": null,
      "outputs": []
    },
    {
      "cell_type": "markdown",
      "source": [
        "# 3.2 Desdobramento da din_instante em colunas mês e ano"
      ],
      "metadata": {
        "id": "ZLbXAaehzru8"
      }
    },
    {
      "cell_type": "code",
      "source": [
        "# Supondo que df_concatenado já esteja definido e a coluna 'din_instante' está em formato datetime\n",
        "df_concatenado['din_instante'] = pd.to_datetime(df_concatenado['din_instante'])\n",
        "\n",
        "# Adicionar uma coluna de ano\n",
        "df_concatenado['mes'] = df_concatenado['din_instante'].dt.month\n",
        "\n",
        "# Adicionar uma coluna de ano\n",
        "df_concatenado['ano'] = df_concatenado['din_instante'].dt.year\n",
        "\n",
        "print(df_concatenado.head())"
      ],
      "metadata": {
        "id": "-X3O7nBrz_aK"
      },
      "execution_count": null,
      "outputs": []
    },
    {
      "cell_type": "markdown",
      "source": [
        "# 3.3 Dataframe novo com o somatório por estado"
      ],
      "metadata": {
        "id": "ZKU4w1422HU7"
      }
    },
    {
      "cell_type": "code",
      "source": [
        "# Primeiro, vamos agrupar os dados pelas colunas desejadas e somar os valores\n",
        "\n",
        "df_somatorio = df_concatenado.groupby(\n",
        "    ['id_subsistema', 'nom_subsistema', 'id_estado', 'nom_estado', 'mes', 'ano'],\n",
        "    as_index=False\n",
        ").agg({\n",
        "    'val_geracao': 'sum',\n",
        "    'val_geracaolimitada': 'sum',\n",
        "    'val_disponibilidade': 'sum'\n",
        "})\n",
        "\n",
        "# Exibindo o novo DataFrame\n",
        "print(df_somatorio)\n"
      ],
      "metadata": {
        "id": "L7HNIt1o2KZC"
      },
      "execution_count": null,
      "outputs": []
    },
    {
      "cell_type": "code",
      "source": [
        "# Resumo estatístico básico (mínimo, máximo, média, desvio-padrão, etc.)\n",
        "resumo_estatistico = df_somatorio[['val_geracao', 'val_geracaolimitada', 'val_disponibilidade']].describe()\n",
        "\n",
        "# Calculando a mediana\n",
        "mediana = df_somatorio[['val_geracao', 'val_geracaolimitada', 'val_disponibilidade']].median()\n",
        "\n",
        "# Calculando a moda\n",
        "moda = df_somatorio[['val_geracao', 'val_geracaolimitada', 'val_disponibilidade']].mode().iloc[0]  # iloc[0] para pegar a primeira moda\n",
        "\n",
        "# Número de valores ausentes (NaN)\n",
        "valores_ausentes = df_somatorio[['val_geracao', 'val_geracaolimitada', 'val_disponibilidade']].isnull().sum()\n",
        "\n",
        "# Exibir o resumo\n",
        "print(\"Resumo estatístico:\")\n",
        "print(resumo_estatistico)\n",
        "\n",
        "print(\"\\nMediana:\")\n",
        "print(mediana)\n",
        "\n",
        "print(\"\\nModa:\")\n",
        "print(moda)\n",
        "\n",
        "print(\"\\nNúmero de valores ausentes:\")\n",
        "print(valores_ausentes)"
      ],
      "metadata": {
        "id": "gqul3Gl3BatT"
      },
      "execution_count": null,
      "outputs": []
    },
    {
      "cell_type": "markdown",
      "source": [
        "Distribuição assimétrica: A média e a mediana são bastante diferentes, especialmente para val_geracao e val_disponibilidade, sugerindo que a distribuição dos dados é assimétrica, com alguns valores muito altos influenciando a média.\n",
        "Variabilidade significativa: O alto desvio padrão indica grande variação entre as usinas, tanto em termos de geração, geração limitada quanto disponibilidade.\n",
        "Valores frequentes: A presença de 0 em val_geracaolimitada sugere que em muitos casos, a geração foi limitada a zero, o que pode ser interessante investigar mais profundamente (por exemplo, restrições operacionais)."
      ],
      "metadata": {
        "id": "CX2erT_vByx8"
      }
    },
    {
      "cell_type": "code",
      "source": [
        "# Criar a coluna de mês\n",
        "df_concatenado['mes'] = df_concatenado['din_instante'].dt.to_period('M')\n",
        "\n",
        "# Agrupar os dados por mês e submercado\n",
        "df_agrupado = df_concatenado.groupby(['mes', 'nom_subsistema'])[['val_geracao', 'val_disponibilidade', 'val_geracaolimitada']].sum().reset_index()\n",
        "\n",
        "# Exibir o DataFrame resultante\n",
        "print(df_agrupado.head())"
      ],
      "metadata": {
        "id": "X7c6khNRAIPZ"
      },
      "execution_count": null,
      "outputs": []
    },
    {
      "cell_type": "code",
      "source": [
        "# Verificar o DataFrame agrupado\n",
        "print(df_agrupado.head())\n",
        "print(df_agrupado.dtypes)"
      ],
      "metadata": {
        "id": "loWOxfKkAL5r"
      },
      "execution_count": null,
      "outputs": []
    },
    {
      "cell_type": "markdown",
      "source": [
        "Dataframe com o somatório por Estado"
      ],
      "metadata": {
        "id": "yMfj04tchM_E"
      }
    },
    {
      "cell_type": "code",
      "source": [
        "# Exibir as primeiras linhas do DataFrame para verificar as colunas\n",
        "print(df_somatorio.head())\n",
        "\n",
        "# Agrupar por id_estado e calcular o somatório de val_geracao\n",
        "df_somatorio_estado = df_concatenado.groupby('id_estado')['val_geracao'].sum().reset_index()\n",
        "\n",
        "# Renomear a coluna do somatório\n",
        "df_somatorio_estado.rename(columns={'val_geracao': 'somatorio_val_geracao'}, inplace=True)\n",
        "#df_somatorio_estado.rename(columns={'val_disponibilidade': 'somatorio_val_disponibilidade'}, inplace=True)\n",
        "\n",
        "# Resultado final\n",
        "print(df_somatorio_estado)\n",
        "\n"
      ],
      "metadata": {
        "id": "nc9pe5a9hN4v"
      },
      "execution_count": null,
      "outputs": []
    },
    {
      "cell_type": "markdown",
      "source": [
        "# **4. Início Análise de Dados**"
      ],
      "metadata": {
        "id": "cEYnsszD6H2I"
      }
    },
    {
      "cell_type": "markdown",
      "source": [
        "# **4.1. Total de Geração dos Subsistemas por Ano**"
      ],
      "metadata": {
        "id": "d6ly_tKw6NQj"
      }
    },
    {
      "cell_type": "code",
      "source": [
        "# Agrupar por nom_subsistema e ano, e calcular o total de val_geracao\n",
        "df_agrupado = df_concatenado.groupby(['nom_subsistema', 'ano'])['val_geracao'].sum().reset_index()\n",
        "\n",
        "# Ordenar os valores de geração por subsistema em ordem descendente dentro de cada ano\n",
        "df_agrupado = df_agrupado.sort_values(by=['ano', 'val_geracao'], ascending=[True, False])\n",
        "\n",
        "# Criar uma coluna de ano como string para melhor visualização no gráfico\n",
        "df_agrupado['ano'] = df_agrupado['ano'].apply(lambda x: f'Ano {x}')\n",
        "\n",
        "# Plotar o gráfico de barras com ordenação descendente\n",
        "plt.figure(figsize=(12, 8))\n",
        "sns.barplot(x='ano', y='val_geracao', hue='nom_subsistema', data=df_agrupado, dodge=True)\n",
        "plt.title('Total de Geração por Subsistema e Ano (Ordenado Descendente)')\n",
        "plt.xlabel('Ano')\n",
        "plt.ylabel('Total de Geração (MW)')\n",
        "plt.xticks(rotation=45)\n",
        "plt.legend(title='Subsistema', bbox_to_anchor=(1.05, 1), loc='upper left')\n",
        "plt.tight_layout()  # Ajusta o layout para que tudo se encaixe bem\n",
        "plt.show()"
      ],
      "metadata": {
        "id": "1WlACx737qEk"
      },
      "execution_count": null,
      "outputs": []
    },
    {
      "cell_type": "markdown",
      "source": [
        "**Análise do gráfico: Nordeste é o subsistema que tem a maior participação na geração de energia eólica.**"
      ],
      "metadata": {
        "id": "t1jDY9g0pXJe"
      }
    },
    {
      "cell_type": "markdown",
      "source": [
        "# **4.2. Total de Geração dos Estados por ano**"
      ],
      "metadata": {
        "id": "2Au_crfq76Tq"
      }
    },
    {
      "cell_type": "code",
      "source": [
        "# Agrupar por nom_subsistema e ano, e calcular o total de val_geracao\n",
        "df_agrupado = df_concatenado.groupby(['nom_estado', 'ano'])['val_geracao'].sum().reset_index()\n",
        "\n",
        "# Ordenar os valores de geração por subsistema em ordem descendente dentro de cada ano\n",
        "df_agrupado = df_agrupado.sort_values(by=['ano', 'val_geracao'], ascending=[True, False])\n",
        "\n",
        "# Criar uma coluna de ano como string para melhor visualização no gráfico\n",
        "df_agrupado['ano'] = df_agrupado['ano'].apply(lambda x: f'Ano {x}')\n",
        "\n",
        "# Plotar o gráfico de barras com ordenação descendente\n",
        "plt.figure(figsize=(12, 8))\n",
        "sns.barplot(x='ano', y='val_geracao', hue='nom_estado', data=df_agrupado, dodge=True)\n",
        "plt.title('Total de Geração por Estado e Ano (Ordenado Descendente)')\n",
        "plt.xlabel('Ano')\n",
        "plt.ylabel('Total de Geração (MW)')\n",
        "plt.xticks(rotation=45)\n",
        "plt.legend(title='Subsistema', bbox_to_anchor=(1.05, 1), loc='upper left')\n",
        "plt.tight_layout()  # Ajusta o layout para que tudo se encaixe bem\n",
        "plt.show()\n"
      ],
      "metadata": {
        "id": "TJv1xkFL78qR"
      },
      "execution_count": null,
      "outputs": []
    },
    {
      "cell_type": "markdown",
      "source": [
        "**Análise do gráfico: No nordeste, o Rio Grande do Norte e a Bahia se destacam como maiores geradores eólicos, porém a partir do ano de 2023 a geração praticamente foi multiplicada em 7x. São os Estados protagonistas na geração eólica no Brasil.**"
      ],
      "metadata": {
        "id": "mLBissRFpuxw"
      }
    },
    {
      "cell_type": "markdown",
      "source": [
        "# **4.3. Participação dos Estados na geração anual**"
      ],
      "metadata": {
        "id": "KgAMaVaI8iRY"
      }
    },
    {
      "cell_type": "code",
      "source": [
        "# Pivotar os dados para facilitar o gráfico empilhado\n",
        "df_pivot = df_agrupado.pivot(index='ano', columns='nom_estado', values='val_geracao').fillna(0)\n",
        "\n",
        "# Somar a geração total por estado e ordenar de forma decrescente\n",
        "total_por_estado = df_pivot.sum().sort_values(ascending=False)\n",
        "\n",
        "# Reordenar as colunas do DataFrame pivotado com base na soma total de geração\n",
        "df_pivot = df_pivot[total_por_estado.index]\n",
        "\n",
        "# Plotar gráfico de barras empilhadas com a ordem ajustada\n",
        "ax = df_pivot.plot(kind='bar', stacked=True, figsize=(12, 8), colormap='tab20')\n",
        "plt.title('Participação dos Estados na Geração anual')\n",
        "plt.xlabel('Ano')\n",
        "plt.ylabel('Total de Geração (MW)')\n",
        "plt.xticks(rotation=45)\n",
        "\n",
        "# Ordenar a legenda de acordo com a ordem das colunas\n",
        "handles, labels = ax.get_legend_handles_labels()\n",
        "ordered_labels_handles = sorted(zip(labels, handles), key=lambda x: total_por_estado[x[0]], reverse=True)\n",
        "labels, handles = zip(*ordered_labels_handles)\n",
        "\n",
        "# Atualizar a legenda com a ordem ajustada\n",
        "plt.legend(handles, labels, title='Estado', bbox_to_anchor=(1.05, 1), loc='upper left')\n",
        "\n",
        "plt.tight_layout()\n",
        "plt.show()"
      ],
      "metadata": {
        "id": "IZ6qNI7X8kUs"
      },
      "execution_count": null,
      "outputs": []
    },
    {
      "cell_type": "markdown",
      "source": [
        "**Análise do gráfico: Uma outra forma de visualizar a participação da geração do Rio Grande do Norte e da Bahia para o Sistema Integrado Nacional. O Rio Grande do Norte sozinho praticamente consegue gerar a geração de todas os outros Estados juntos.**"
      ],
      "metadata": {
        "id": "fWRu34ghq2Rl"
      }
    },
    {
      "cell_type": "markdown",
      "source": [
        "# **4.4. Qual era a disponibilidade por Subsistema e Ano?**"
      ],
      "metadata": {
        "id": "xSVhPdZM9lz7"
      }
    },
    {
      "cell_type": "code",
      "source": [
        "# Agrupar por nom_subsistema e ano, e calcular o total de val_geracaolimitada\n",
        "df_agrupado = df_concatenado.groupby(['nom_subsistema', 'ano'])['val_disponibilidade'].sum().reset_index()\n",
        "\n",
        "# Ordenar os valores de geração por subsistema em ordem descendente dentro de cada ano\n",
        "df_agrupado = df_agrupado.sort_values(by=['ano', 'val_disponibilidade'], ascending=[True, False])\n",
        "\n",
        "# Criar uma coluna de ano como string para melhor visualização no gráfico\n",
        "df_agrupado['ano'] = df_agrupado['ano'].apply(lambda x: f'Ano {x}')\n",
        "\n",
        "# Ordenar os subsistemas pelo valor total de val_disponibilidade\n",
        "subsistema_total = df_agrupado.groupby('nom_subsistema')['val_disponibilidade'].sum().sort_values(ascending=False).index\n",
        "\n",
        "# Redefinir a ordem dos subsistemas para a visualização correta\n",
        "df_agrupado['nom_subsistema'] = pd.Categorical(df_agrupado['nom_subsistema'], categories=subsistema_total, ordered=True)\n",
        "\n",
        "# Plotar o gráfico de barras com ordenação descendente\n",
        "plt.figure(figsize=(12, 8))\n",
        "sns.barplot(x='ano', y='val_disponibilidade', hue='nom_subsistema', data=df_agrupado, dodge=True)\n",
        "plt.title('Somatório da Disponibilidade de Geração por Subsistema e Ano (Ordenado Descendente)')\n",
        "plt.xlabel('Ano')\n",
        "plt.ylabel('Total de Geração (MW)')\n",
        "plt.xticks(rotation=45)\n",
        "\n",
        "# Ajustar a legenda com a ordem correta\n",
        "handles, labels = plt.gca().get_legend_handles_labels()\n",
        "ordered_labels_handles = sorted(zip(labels, handles), key=lambda x: subsistema_total.get_loc(x[0]))\n",
        "labels, handles = zip(*ordered_labels_handles)\n",
        "\n",
        "plt.legend(handles, labels, title='Subsistema', bbox_to_anchor=(1.05, 1), loc='upper left')\n",
        "plt.tight_layout()  # Ajusta o layout para que tudo se encaixe bem\n",
        "plt.show()"
      ],
      "metadata": {
        "id": "44GR0wYW9q0-"
      },
      "execution_count": null,
      "outputs": []
    },
    {
      "cell_type": "markdown",
      "source": [
        "**Análise do gráfico: A disponibilidade indica o quanto as usinas eólicas estavam preparadas para gerar naquele momento. A Disponibilidade e a Geração Verificada deveriam ser muito próximas, porém com as restrições a geração limitada passa a apresentar o quanto realmente deve ser gerado.**"
      ],
      "metadata": {
        "id": "uEMjK-PorhVf"
      }
    },
    {
      "cell_type": "markdown",
      "source": [
        "# **4.5. Qual era a disponibilidade por Estado e Ano?**"
      ],
      "metadata": {
        "id": "KBgCAxym9FaD"
      }
    },
    {
      "cell_type": "code",
      "source": [
        "# Agrupar por nom_subsistema e ano, e calcular o total de val_geracao\n",
        "df_agrupado = df_concatenado.groupby(['nom_estado', 'ano'])['val_disponibilidade'].sum().reset_index()\n",
        "\n",
        "# Ordenar os valores de geração por subsistema em ordem descendente dentro de cada ano\n",
        "df_agrupado = df_agrupado.sort_values(by=['ano', 'val_disponibilidade'], ascending=[True, False])\n",
        "\n",
        "# Criar uma coluna de ano como string para melhor visualização no gráfico\n",
        "df_agrupado['ano'] = df_agrupado['ano'].apply(lambda x: f'Ano {x}')\n",
        "\n",
        "# Plotar o gráfico de barras com ordenação descendente\n",
        "plt.figure(figsize=(12, 8))\n",
        "sns.barplot(x='ano', y='val_disponibilidade', hue='nom_estado', data=df_agrupado, dodge=True)\n",
        "plt.title('Total de Valor de Disponibilidade por Estado e Ano (Ordenado Descendente)')\n",
        "plt.xlabel('Ano')\n",
        "plt.ylabel('Total de Disponibilidade (MW)')\n",
        "plt.xticks(rotation=45)\n",
        "plt.legend(title='Subsistema', bbox_to_anchor=(1.05, 1), loc='upper left')\n",
        "plt.tight_layout()  # Ajusta o layout para que tudo se encaixe bem\n",
        "plt.show()"
      ],
      "metadata": {
        "id": "hUhl5TuN9PSc"
      },
      "execution_count": null,
      "outputs": []
    },
    {
      "cell_type": "markdown",
      "source": [
        "**Análise do gráfico: Outra forma de visulizar e analisar a disponibilidae das usinas eólicas. A disponibilidade indica o quanto as usinas eólicas estavam preparadas para gerar naquele momento em que seriam despachadas. A Disponibilidade e a Geração Verificada deveriam ser muito próximas, porém com as restrições a geração limitada passa a apresentar o quanto realmente deve ser gerado.**"
      ],
      "metadata": {
        "id": "pTDf3N4tsCRD"
      }
    },
    {
      "cell_type": "markdown",
      "source": [
        "# 4.6 Geração x Disponibilidade por Subsistema"
      ],
      "metadata": {
        "id": "NX-L5THP-HvC"
      }
    },
    {
      "cell_type": "code",
      "source": [
        "# Derreter o DataFrame para ter 'val_disponibilidade' e 'val_geracao' como colunas de valor\n",
        "df_melted = pd.melt(df_somatorio, id_vars=['nom_subsistema'], value_vars=['val_disponibilidade', 'val_geracao'],\n",
        "                    var_name='Tipo', value_name='Valor')\n",
        "\n",
        "# Garantir que 'nom_subsistema' tenha a ordenação correta com base na soma de 'val_disponibilidade'\n",
        "subsistema_total = df_somatorio.groupby('nom_subsistema')['val_disponibilidade'].sum().sort_values(ascending=False).index\n",
        "df_melted['nom_subsistema'] = pd.Categorical(df_melted['nom_subsistema'], categories=subsistema_total, ordered=True)\n",
        "\n",
        "# Usar um FacetGrid para dividir o gráfico por subsistema, com escala independente para cada gráfico\n",
        "g = sns.FacetGrid(df_melted, col=\"nom_subsistema\", col_wrap=3, height=4, aspect=1.5, sharey=False)\n",
        "\n",
        "# Adicionar o gráfico de barras com sns.barplot, incluindo o 'hue' para distinguir os tipos\n",
        "g.map_dataframe(sns.barplot, x=\"Tipo\", y=\"Valor\", hue=\"Tipo\", palette=\"dark\")\n",
        "\n",
        "# Adicionar a legenda\n",
        "g.add_legend()\n",
        "\n",
        "# Ajustar os rótulos dos eixos\n",
        "g.set_axis_labels(\"Tipo\", \"Valor (MW)\")\n",
        "\n",
        "# Adicionar um título geral\n",
        "g.fig.suptitle('Comparação entre Geração e Disponibilidade por Subsistema', y=1.02)\n",
        "\n",
        "# Ajustar o layout para que o título não sobreponha os gráficos\n",
        "plt.tight_layout()\n",
        "\n",
        "# Mostrar o gráfico\n",
        "plt.show()\n",
        "\n"
      ],
      "metadata": {
        "id": "SryLst0g-NJ4"
      },
      "execution_count": null,
      "outputs": []
    },
    {
      "cell_type": "markdown",
      "source": [
        "**Análise do gráfico: Comparação da Geração Verificada com a Disponibilidade.**"
      ],
      "metadata": {
        "id": "qOOblYFisSIs"
      }
    },
    {
      "cell_type": "markdown",
      "source": [
        "# 4.7 Geração x Disponibilidade por Estado\n",
        "\n"
      ],
      "metadata": {
        "id": "fHzEyGsYfizQ"
      }
    },
    {
      "cell_type": "code",
      "source": [
        "df_melted = pd.melt(df_somatorio, id_vars=['id_estado'],\n",
        "                    value_vars=['val_disponibilidade', 'val_geracao'],\n",
        "                    var_name='Tipo', value_name='Valor')\n",
        "\n",
        "# Pivotar os dados para preparar para o gráfico\n",
        "df_pivot = df_melted.pivot_table(index='id_estado', columns='Tipo', values='Valor', fill_value=0)\n",
        "\n",
        "# Criar o gráfico\n",
        "fig, ax = plt.subplots(figsize=(12, 6))\n",
        "\n",
        "# Criar as barras de disponibilidade com largura ajustada\n",
        "bar_width = 0.4  # Ajustar a largura das barras\n",
        "bars = ax.bar(df_pivot.index, df_pivot['val_disponibilidade'],\n",
        "               color='lightblue', width=bar_width, label='Disponibilidade')\n",
        "\n",
        "# Adicionar a linha de geração\n",
        "ax.plot(df_pivot.index, df_pivot['val_geracao'],\n",
        "        color='orange', marker='o', label='Geração', linewidth=2)\n",
        "\n",
        "# Ajustar os rótulos dos eixos\n",
        "ax.set_ylabel('Valor (MW)')\n",
        "ax.set_xlabel('Estado')\n",
        "\n",
        "# Rotacionar os rótulos do eixo X e ajustar o espaçamento\n",
        "plt.xticks(rotation=45, ha='right', fontsize=10)\n",
        "\n",
        "# Adicionar um título\n",
        "plt.title('Comparação entre Geração e Disponibilidade por Estado')\n",
        "\n",
        "# Ajustar as legendas\n",
        "ax.legend()\n",
        "\n",
        "# Ajustar o layout para dar mais espaço\n",
        "plt.tight_layout()\n",
        "plt.subplots_adjust(bottom=0.2)  # Aumentar o espaço inferior para acomodar rótulos\n",
        "\n",
        "# Mostrar o gráfico\n",
        "plt.show()\n"
      ],
      "metadata": {
        "id": "1kWqd1Goe1YP"
      },
      "execution_count": null,
      "outputs": []
    },
    {
      "cell_type": "markdown",
      "source": [
        "**Análise do gráfico: Nesse gráfico é possível verificar infornações que se tornam conflitantes. Como que é possível uma usina eólica que possui uma disponibilidade declarada de X gerar X+n? São os casos dos Estados: BA, PB e PI.\n",
        "Porém, é importante saber que a disponibilidade é uma informação declarada e a geração verificada nesse caso não deve ser analisada e sim a geração limitada que foi a despachada pelo ONS.**\n"
      ],
      "metadata": {
        "id": "kpv2vugGsgH3"
      }
    },
    {
      "cell_type": "markdown",
      "source": [
        "# 4.8 Geração limitada x Disponibilidade por Estado"
      ],
      "metadata": {
        "id": "_vq-jf_c3x1n"
      }
    },
    {
      "cell_type": "code",
      "source": [
        "df_melted = pd.melt(df_somatorio, id_vars=['id_estado'],\n",
        "                    value_vars=['val_disponibilidade', 'val_geracaolimitada'],\n",
        "                    var_name='Tipo', value_name='Valor')\n",
        "\n",
        "# Pivotar os dados para preparar para o gráfico\n",
        "df_pivot = df_melted.pivot_table(index='id_estado', columns='Tipo', values='Valor', fill_value=0)\n",
        "\n",
        "# Criar o gráfico\n",
        "fig, ax = plt.subplots(figsize=(12, 6))\n",
        "\n",
        "# Criar as barras de disponibilidade com largura ajustada\n",
        "bar_width = 0.4  # Ajustar a largura das barras\n",
        "bars = ax.bar(df_pivot.index, df_pivot['val_disponibilidade'],\n",
        "               color='lightblue', width=bar_width, label='Disponibilidade')\n",
        "\n",
        "# Adicionar a linha de geração\n",
        "ax.plot(df_pivot.index, df_pivot['val_geracaolimitada'],\n",
        "        color='orange', marker='o', label='Geração', linewidth=2)\n",
        "\n",
        "# Ajustar os rótulos dos eixos\n",
        "ax.set_ylabel('Valor (MW)')\n",
        "ax.set_xlabel('Estado')\n",
        "\n",
        "# Rotacionar os rótulos do eixo X e ajustar o espaçamento\n",
        "plt.xticks(rotation=45, ha='right', fontsize=10)\n",
        "\n",
        "# Adicionar um título\n",
        "plt.title('Comparação entre Geração Limitada e Disponibilidade por Estado')\n",
        "\n",
        "# Ajustar as legendas\n",
        "ax.legend()\n",
        "\n",
        "# Ajustar o layout para dar mais espaço\n",
        "plt.tight_layout()\n",
        "plt.subplots_adjust(bottom=0.2)  # Aumentar o espaço inferior para acomodar rótulos\n",
        "\n",
        "# Mostrar o gráfico\n",
        "plt.show()"
      ],
      "metadata": {
        "id": "hkVTUZb_39Va"
      },
      "execution_count": null,
      "outputs": []
    },
    {
      "cell_type": "markdown",
      "source": [
        "**Análise do gráfico: Nesse gráfico é possível fazer as informações se encontrarem. A geração não deve ser maior que a disponibilidade. Principalmente, se houver a geração limitada. Aí sim, demonstra o quando um agente deixou de produzir de energia devido uma restrição e gera embasamento para os questionamentos dos agentes eólicos quanto aos prejuízos financeiros.**"
      ],
      "metadata": {
        "id": "uPW0Tpgptja_"
      }
    },
    {
      "cell_type": "markdown",
      "source": [
        "# 4.9 Geração por Estado"
      ],
      "metadata": {
        "id": "IoYG5hz2D93L"
      }
    },
    {
      "cell_type": "code",
      "source": [
        "# Caminho para o shapefile\n",
        "shapefile_brasil = '/content/Mapa/BR_UF_2022.shp'\n",
        "\n",
        "# Carregar o shapefile dos estados do Brasil\n",
        "brasil_map = gpd.read_file(shapefile_brasil)\n",
        "\n",
        "# Exibir o mapa carregado\n",
        "plt.figure(figsize=(10, 10))\n",
        "brasil_map.plot(color='lightgrey', edgecolor='black')\n",
        "plt.title('Mapa do Brasil')\n",
        "plt.xlabel('Longitude')\n",
        "plt.ylabel('Latitude')\n",
        "plt.show()\n"
      ],
      "metadata": {
        "id": "4WN-OErkB1d6"
      },
      "execution_count": null,
      "outputs": []
    },
    {
      "cell_type": "code",
      "source": [
        "print(brasil_map.columns)\n",
        "print(brasil_map['SIGLA_UF'].unique())\n"
      ],
      "metadata": {
        "id": "1teysDESs0El"
      },
      "execution_count": null,
      "outputs": []
    },
    {
      "cell_type": "code",
      "source": [
        "print(df_somatorio_estado.columns)\n",
        "print(df_somatorio_estado.head())\n"
      ],
      "metadata": {
        "id": "XK3VIFt7s3h2"
      },
      "execution_count": null,
      "outputs": []
    },
    {
      "cell_type": "code",
      "source": [
        "brasil_map = brasil_map.merge(df_somatorio_estado[['id_estado', 'somatorio_val_geracao']],\n",
        "                               how='left',\n",
        "                               left_on='SIGLA_UF',\n",
        "                               right_on='id_estado')\n"
      ],
      "metadata": {
        "id": "awRtboCss8eh"
      },
      "execution_count": null,
      "outputs": []
    },
    {
      "cell_type": "code",
      "source": [
        "print(df_somatorio_estado.columns)"
      ],
      "metadata": {
        "id": "tJxCvVLr7DH4"
      },
      "execution_count": null,
      "outputs": []
    },
    {
      "cell_type": "code",
      "source": [
        "print(brasil_map[['SIGLA_UF', 'somatorio_val_geracao']].head())\n"
      ],
      "metadata": {
        "id": "ztabH6F-tAN_"
      },
      "execution_count": null,
      "outputs": []
    },
    {
      "cell_type": "code",
      "source": [
        "brasil_map = brasil_map.dropna(subset=['somatorio_val_geracao'])\n"
      ],
      "metadata": {
        "id": "hOwCOX2otIYo"
      },
      "execution_count": null,
      "outputs": []
    },
    {
      "cell_type": "code",
      "source": [
        "import matplotlib.pyplot as plt\n",
        "\n",
        "plt.figure(figsize=(10, 10))\n",
        "brasil_map.plot(column='somatorio_val_geracao', cmap='OrRd', legend=True, edgecolor='black')\n",
        "plt.title('Mapa do Brasil com Somatório de Geração por Estado')\n",
        "plt.xlabel('Longitude')\n",
        "plt.ylabel('Latitude')\n",
        "plt.show()\n"
      ],
      "metadata": {
        "id": "0lJU2RHrtKxP"
      },
      "execution_count": null,
      "outputs": []
    },
    {
      "cell_type": "markdown",
      "source": [
        "**Análise do gráfico: Forma diferente de destacar a participação dos Estados na geração eólica no Brasil.**"
      ],
      "metadata": {
        "id": "vP3aen9Juo_l"
      }
    },
    {
      "cell_type": "markdown",
      "source": [
        "# 4.10 Geração Verificada, Limitada e Disponibilidade por Estado"
      ],
      "metadata": {
        "id": "MSHVtF1XEPGP"
      }
    },
    {
      "cell_type": "code",
      "source": [
        "import matplotlib.pyplot as plt\n",
        "\n",
        "# Agrupar por estado e somar as colunas de geração\n",
        "df_estado_geracao = df_concatenado.groupby('nom_estado').agg({\n",
        "    'val_geracao': 'sum',\n",
        "    'val_geracaolimitada': 'sum',\n",
        "    'val_disponibilidade': 'sum'\n",
        "}).reset_index()\n",
        "\n",
        "# Criar o gráfico de dispersão\n",
        "fig, ax = plt.subplots(figsize=(10, 6))\n",
        "\n",
        "# Plotar os pontos de dispersão para val_geracao\n",
        "scatter1 = ax.scatter(df_estado_geracao['nom_estado'], df_estado_geracao['val_geracao'],\n",
        "                      color='blue', label='Geração (MW)', alpha=0.6, s=100)\n",
        "\n",
        "# Plotar os pontos de dispersão para val_geracaolimitada\n",
        "scatter2 = ax.scatter(df_estado_geracao['nom_estado'], df_estado_geracao['val_geracaolimitada'],\n",
        "                      color='green', label='Geração Limitada (MW)', alpha=0.6, s=100)\n",
        "\n",
        "# Plotar os pontos de dispersão para val_disponibilidade\n",
        "scatter3 = ax.scatter(df_estado_geracao['nom_estado'], df_estado_geracao['val_disponibilidade'],\n",
        "                      color='red', label='Disponibilidade (MW)', alpha=0.6, s=100)\n",
        "\n",
        "# Ajustar os rótulos e o título\n",
        "ax.set_xlabel('Estado')\n",
        "ax.set_ylabel('Valores (MW)')\n",
        "ax.set_title('Comparação de Geração, Geração Limitada e Disponibilidade por Estado')\n",
        "\n",
        "# Rotacionar os rótulos do eixo X para melhor legibilidade\n",
        "plt.xticks(rotation=90)\n",
        "\n",
        "# Adicionar a legenda\n",
        "ax.legend()\n",
        "\n",
        "# Ajustar o layout\n",
        "plt.tight_layout()\n",
        "\n",
        "# Mostrar o gráfico\n",
        "plt.show()\n"
      ],
      "metadata": {
        "id": "hNRF711b-_1c"
      },
      "execution_count": null,
      "outputs": []
    },
    {
      "cell_type": "markdown",
      "source": [
        "**Análise do gráfico: Nesse gráfico conseguimos comparar as 03 variáveis e é perceptivel a diferença de uma variável para a outra para o Estado do Rio Grande do Norte. O ideal seria analisarmos mais essa informação e cruzar com outras informações.**"
      ],
      "metadata": {
        "id": "b4YRRg5ru63R"
      }
    },
    {
      "cell_type": "markdown",
      "source": [
        "# 5. Levantamento de restrições que foram aplicadas"
      ],
      "metadata": {
        "id": "VdxTjDN0l4Bj"
      }
    },
    {
      "cell_type": "markdown",
      "source": [
        "Análise dos tipos de restrições sofridas pelos agentes eólicos."
      ],
      "metadata": {
        "id": "Zg9LGK-nKAmD"
      }
    },
    {
      "cell_type": "markdown",
      "source": [
        "# 5.1. Total de restrições sofridas"
      ],
      "metadata": {
        "id": "egwTV7loGcUb"
      }
    },
    {
      "cell_type": "code",
      "source": [
        "# Contar as ocorrências de cada cod_razaorestricao\n",
        "contagem_total = df_concatenado.groupby('cod_razaorestricao').size().reset_index(name='Contagem')\n",
        "\n",
        "# Criar o gráfico de pizza\n",
        "fig, ax = plt.subplots(figsize=(8, 8))\n",
        "\n",
        "# Plotar o gráfico de pizza\n",
        "ax.pie(contagem_total['Contagem'], labels=contagem_total['cod_razaorestricao'], autopct='%1.1f%%', startangle=90, colors=plt.cm.Paired.colors)\n",
        "\n",
        "# Ajustar o título\n",
        "ax.set_title('Distribuição de Tipos de Restrições')\n",
        "\n",
        "# Ajustar o layout\n",
        "plt.tight_layout()\n",
        "\n",
        "# Mostrar o gráfico\n",
        "plt.show()\n"
      ],
      "metadata": {
        "id": "rbFlxTHaAmII"
      },
      "execution_count": null,
      "outputs": []
    },
    {
      "cell_type": "markdown",
      "source": [
        "**Análise do gráfico: A maior razão para restrição elética é a CNF, essa razão está vinculada à confiabilidade elétrica. A solicitação da reducação da geração deve ter surgido com a intenção de proteger o Sistema Integrado. A Segunda razão é a ENE, ou seja, Restrição por razão energética, que acontece quando não há onde alocar a energia gerada, por exemplo, a carga do sistema será atendida com a geração limitada.**"
      ],
      "metadata": {
        "id": "JEeYvSChvc8g"
      }
    },
    {
      "cell_type": "markdown",
      "source": [
        "# 5.2. Total de causas das restrições sofridas"
      ],
      "metadata": {
        "id": "0m-3iDkRGvUA"
      }
    },
    {
      "cell_type": "code",
      "source": [
        "import matplotlib.pyplot as plt\n",
        "\n",
        "# Contar as ocorrências de cada cod_razaorestricao e cod_origemrestricao\n",
        "contagem_detalhada = df_concatenado.groupby(['cod_razaorestricao', 'cod_origemrestricao']).size().reset_index(name='Contagem')\n",
        "\n",
        "# Criar uma coluna combinada para representar o tipo de restrição e a origem\n",
        "contagem_detalhada['Tipo_Origem'] = contagem_detalhada['cod_razaorestricao'].astype(str) + ' - ' + contagem_detalhada['cod_origemrestricao'].astype(str)\n",
        "\n",
        "# Criar o gráfico de pizza\n",
        "fig, ax = plt.subplots(figsize=(8, 8))\n",
        "\n",
        "# Plotar o gráfico de pizza\n",
        "ax.pie(contagem_detalhada['Contagem'], labels=contagem_detalhada['Tipo_Origem'], autopct='%1.1f%%', startangle=90, colors=plt.cm.Paired.colors)\n",
        "\n",
        "# Ajustar o título\n",
        "ax.set_title('Distribuição de Tipos de Restrições com Origem')\n",
        "\n",
        "# Ajustar o layout\n",
        "plt.tight_layout()\n",
        "\n",
        "# Mostrar o gráfico\n",
        "plt.show()\n"
      ],
      "metadata": {
        "id": "lqDfPTZeAut0"
      },
      "execution_count": null,
      "outputs": []
    },
    {
      "cell_type": "markdown",
      "source": [
        "**Análise do gráfico: Nesse gráfico vemos que o CNF se apresenta praticament dividido no meio pelas origens LOC que é uma origem que indica limitação na rede de transmissão e SIS que também são limitações da rede de transmissão, porém, por causas de intevenções programadas ou não programadas.**"
      ],
      "metadata": {
        "id": "-a05QK-Jwj6Y"
      }
    },
    {
      "cell_type": "markdown",
      "source": [
        "# 5.3. Restrição por período"
      ],
      "metadata": {
        "id": "WYbpFAn3Ei7B"
      }
    },
    {
      "cell_type": "code",
      "source": [
        "# Contar as ocorrências de cada cod_razaorestricao por estado\n",
        "contagem = df_concatenado.groupby(['mes', 'cod_razaorestricao']).size().reset_index(name='Contagem')\n",
        "\n",
        "# Calcular a proporção\n",
        "contagem['Proporcao'] = contagem.groupby('cod_razaorestricao')['Contagem'].transform(lambda x: x / x.sum())\n",
        "\n",
        "# Criar um gráfico de barras empilhadas\n",
        "fig, ax = plt.subplots(figsize=(10, 6))\n",
        "\n",
        "# Criar barras empilhadas\n",
        "contagem.pivot(index='mes', columns='cod_razaorestricao', values='Proporcao').plot(kind='bar', stacked=True, ax=ax)\n",
        "\n",
        "# Ajustar os rótulos e título\n",
        "ax.set_ylabel('Proporção')\n",
        "ax.set_xlabel('Mês/Ano')\n",
        "ax.set_title('Proporção de Razão Restricao por Período')\n",
        "\n",
        "# Adicionar uma legenda\n",
        "ax.legend(title='Código da Razão de Restrição')\n",
        "\n",
        "# Ajustar o layout\n",
        "plt.tight_layout()\n",
        "\n",
        "# Mostrar o gráfico\n",
        "plt.show()\n"
      ],
      "metadata": {
        "id": "odA_0Y8nl1hs"
      },
      "execution_count": null,
      "outputs": []
    },
    {
      "cell_type": "markdown",
      "source": [
        "**Análise do gráfico: Visualização de distribuição por período**"
      ],
      "metadata": {
        "id": "Sc1tADGmxb3K"
      }
    },
    {
      "cell_type": "markdown",
      "source": [
        "# 5.4. Restrição por período"
      ],
      "metadata": {
        "id": "Yd5d_7-HFMnQ"
      }
    },
    {
      "cell_type": "code",
      "source": [
        "# Certifique-se de que a coluna 'din_instante' está em formato datetime para extrair o mês\n",
        "df_concatenado['din_instante'] = pd.to_datetime(df_concatenado['din_instante'])\n",
        "\n",
        "# Extrair o mês e criar uma nova coluna\n",
        "df_concatenado['Mes'] = df_concatenado['din_instante'].dt.to_period('M')\n",
        "\n",
        "# Agrupar por mês, cod_razaorestricao e cod_origemrestricao e somar as contagens\n",
        "contagem = df_concatenado.groupby(['Mes', 'cod_razaorestricao', 'cod_origemrestricao']).size().reset_index(name='Contagem')\n",
        "\n",
        "# Calcular a proporção dentro de cada mês\n",
        "contagem['Proporcao'] = contagem.groupby(['Mes', 'cod_razaorestricao'])['Contagem'].transform(lambda x: x / x.sum())\n",
        "\n",
        "# Pivotar os dados para criar a estrutura de barras empilhadas\n",
        "contagem_pivot = contagem.pivot_table(index='Mes', columns=['cod_razaorestricao', 'cod_origemrestricao'], values='Proporcao', fill_value=0)\n",
        "\n",
        "# Criar um gráfico de barras empilhadas\n",
        "fig, ax = plt.subplots(figsize=(12, 6))\n",
        "\n",
        "# Plotar as barras empilhadas com proporções por origem de restrição ao longo dos meses\n",
        "contagem_pivot.plot(kind='bar', stacked=True, ax=ax, colormap='tab20c')\n",
        "\n",
        "# Ajustar os rótulos e título\n",
        "ax.set_ylabel('Proporção')\n",
        "ax.set_xlabel('Mês')\n",
        "ax.set_title('Proporção de Razão e Origem de Restrição por Mês')\n",
        "\n",
        "# Ajustar a legenda\n",
        "ax.legend(title='Razão e Origem de Restrição', bbox_to_anchor=(1.05, 1), loc='upper left')\n",
        "\n",
        "# Ajustar o layout\n",
        "plt.tight_layout()\n",
        "\n",
        "# Mostrar o gráfico\n",
        "plt.show()\n"
      ],
      "metadata": {
        "id": "B3GU81ILXdpD"
      },
      "execution_count": null,
      "outputs": []
    },
    {
      "cell_type": "markdown",
      "source": [
        "**Análise do gráfico: Visualização de distribuição por período**"
      ],
      "metadata": {
        "id": "7YPxDDI1xi3i"
      }
    },
    {
      "cell_type": "markdown",
      "source": [
        "# 5.5. Estados mais afetados com restrições"
      ],
      "metadata": {
        "id": "BKGY-qYEExr5"
      }
    },
    {
      "cell_type": "code",
      "source": [
        "# Contar as ocorrências de cada cod_razaorestricao por estado\n",
        "contagem = df_concatenado.groupby(['id_estado', 'cod_razaorestricao']).size().reset_index(name='Contagem')\n",
        "\n",
        "# Calcular a proporção\n",
        "contagem['Proporcao'] = contagem.groupby('cod_razaorestricao')['Contagem'].transform(lambda x: x / x.sum())\n",
        "\n",
        "# Somar a contagem total de restrições por estado\n",
        "total_restricoes_estado = contagem.groupby('id_estado')['Contagem'].sum().reset_index(name='Total_Restricoes')\n",
        "\n",
        "# Ordenar os estados pela soma total das restrições\n",
        "estados_ordenados = total_restricoes_estado.sort_values('Total_Restricoes', ascending=False)['id_estado']\n",
        "\n",
        "# Reordenar o DataFrame contagem de acordo com os estados ordenados\n",
        "contagem['id_estado'] = pd.Categorical(contagem['id_estado'], categories=estados_ordenados, ordered=True)\n",
        "\n",
        "# Criar um gráfico de barras empilhadas\n",
        "fig, ax = plt.subplots(figsize=(10, 6))\n",
        "\n",
        "# Criar barras empilhadas, agora com os estados ordenados\n",
        "contagem.pivot(index='id_estado', columns='cod_razaorestricao', values='Proporcao').plot(kind='bar', stacked=True, ax=ax)\n",
        "\n",
        "# Ajustar os rótulos e título\n",
        "ax.set_ylabel('Proporção')\n",
        "ax.set_xlabel('Estado')\n",
        "ax.set_title('Proporção de Razão Restrição por Estado (Ordenado por Maior Incidência)')\n",
        "\n",
        "# Adicionar uma legenda\n",
        "ax.legend(title='Código da Razão de Restrição')\n",
        "\n",
        "# Ajustar o layout\n",
        "plt.tight_layout()\n",
        "\n",
        "# Mostrar o gráfico\n",
        "plt.show()\n"
      ],
      "metadata": {
        "id": "F0YmA9epPIUj"
      },
      "execution_count": null,
      "outputs": []
    },
    {
      "cell_type": "markdown",
      "source": [
        "**Análise do gráfico: Visualização de distribuição das restrições elétricas por Estado. Praticamente as proporções são muito parecidas."
      ],
      "metadata": {
        "id": "npcxXzZoxlzB"
      }
    },
    {
      "cell_type": "markdown",
      "source": [
        "# 5.6. Principais causas de Restrição por Estado mais afetado"
      ],
      "metadata": {
        "id": "MGinLuuuE4ih"
      }
    },
    {
      "cell_type": "code",
      "source": [
        "# Contar as ocorrências de cada cod_razaorestricao por estado\n",
        "contagem = df_concatenado.groupby(['id_estado', 'cod_origemrestricao']).size().reset_index(name='Contagem')\n",
        "\n",
        "# Calcular a proporção\n",
        "contagem['Proporcao'] = contagem.groupby('cod_origemrestricao')['Contagem'].transform(lambda x: x / x.sum())\n",
        "\n",
        "# Somar a contagem total de restrições por estado\n",
        "total_restricoes_estado = contagem.groupby('id_estado')['Contagem'].sum().reset_index(name='Total_Restricoes')\n",
        "\n",
        "# Ordenar os estados pela soma total das restrições\n",
        "estados_ordenados = total_restricoes_estado.sort_values('Total_Restricoes', ascending=False)['id_estado']\n",
        "\n",
        "# Reordenar o DataFrame contagem de acordo com os estados ordenados\n",
        "contagem['id_estado'] = pd.Categorical(contagem['id_estado'], categories=estados_ordenados, ordered=True)\n",
        "\n",
        "# Criar um gráfico de barras empilhadas\n",
        "fig, ax = plt.subplots(figsize=(10, 6))\n",
        "\n",
        "# Criar barras empilhadas, agora com os estados ordenados\n",
        "contagem.pivot(index='id_estado', columns='cod_origemrestricao', values='Proporcao').plot(kind='bar', stacked=True, ax=ax)\n",
        "\n",
        "# Ajustar os rótulos e título\n",
        "ax.set_ylabel('Proporção')\n",
        "ax.set_xlabel('Estado')\n",
        "ax.set_title('Proporção de Razão Restrição por Estado (Ordenado por Maior Incidência)')\n",
        "\n",
        "# Adicionar uma legenda\n",
        "ax.legend(title='Código da Razão de Restrição')\n",
        "\n",
        "# Ajustar o layout\n",
        "plt.tight_layout()\n",
        "\n",
        "# Mostrar o gráfico\n",
        "plt.show()\n"
      ],
      "metadata": {
        "id": "kAOj6cI_QIPL"
      },
      "execution_count": null,
      "outputs": []
    },
    {
      "cell_type": "markdown",
      "source": [
        "**Análise do gráfico: Rio Grande do Norte tem sua principal razão as intervenções programadas ou não programadas que acontecem no sistema de transmissão local. Já a Bahia, a limitação maior é para garantir a confiabilidade do sistema.**"
      ],
      "metadata": {
        "id": "34GzZH3UyGS-"
      }
    },
    {
      "cell_type": "markdown",
      "source": [
        "# 6. PRÉ PROCESSAMENTO PARA MODELOS DE MACHINE LEARNING"
      ],
      "metadata": {
        "id": "zPMsZUXfIFoW"
      }
    },
    {
      "cell_type": "markdown",
      "source": [
        "# 6.1. Limpeza dos Dados já realizada nos passos anteriores:\n",
        "\n",
        "\n",
        "*   Exclusão de Colunas que não nos interessa para análise;\n",
        "*   Preenchimento de Dados nulos;\n",
        "*   Transformação de colunas em datetime e float;\n",
        "*   Exclusão de registros com Disponibilidade negativa;\n",
        "*   Exclusão de registros que não possuiam restrição.\n",
        "\n",
        "\n",
        "\n",
        "\n"
      ],
      "metadata": {
        "id": "LEq01LH3K_2I"
      }
    },
    {
      "cell_type": "markdown",
      "source": [
        "# 6.2. Agregação já realizada nos passos anteriores\n",
        "\n",
        "\n",
        "Criados dois dataframes com valores agregados e acumulados:\n",
        "\n",
        "*   Um dataframe contendo as informações que somam os valores de geração, disponibilidade e geração limitada com mês e ano;\n",
        "*   Um dataframe contendo as infomações acumuladas dos valores de geração por estado.\n",
        "\n"
      ],
      "metadata": {
        "id": "9a697FpNMjyq"
      }
    },
    {
      "cell_type": "markdown",
      "source": [
        "# 6.3. Amostragem\n",
        "\n",
        "Os dados originais de análise deveriam contemplar usinas fotovoltaicas, porém resolvi utilizar nesse trabalho apenas usinas eólicas para diminuir o foco do trabalho;"
      ],
      "metadata": {
        "id": "l7VA8-i4NLIG"
      }
    },
    {
      "cell_type": "markdown",
      "source": [],
      "metadata": {
        "id": "aXjf3PBFOQ9q"
      }
    },
    {
      "cell_type": "markdown",
      "source": [
        "# 6.4. Transformação de Dados"
      ],
      "metadata": {
        "id": "IeyVXeWrN4km"
      }
    },
    {
      "cell_type": "markdown",
      "source": [
        "Aplicação do One-Hot Encoding, pois no dataframe escolhido tenho variáveis categóricas, sem ordenação."
      ],
      "metadata": {
        "id": "63KXGcgQIbvg"
      }
    },
    {
      "cell_type": "code",
      "source": [
        "print(df_concatenado)"
      ],
      "metadata": {
        "id": "B3BQC52vkjNT"
      },
      "execution_count": null,
      "outputs": []
    },
    {
      "cell_type": "code",
      "source": [
        "# Aplicar One-Hot Encoding\n",
        "df_encoded = pd.get_dummies(df_concatenado, columns=['id_subsistema', 'nom_subsistema', 'id_estado', 'nom_estado', 'nom_usina', 'cod_razaorestricao', 'cod_origemrestricao'])\n",
        "\n",
        "# Mostrar o resultado\n",
        "print(df_encoded)\n"
      ],
      "metadata": {
        "id": "GqOeyh7dLo0B"
      },
      "execution_count": null,
      "outputs": []
    },
    {
      "cell_type": "markdown",
      "source": [
        "# 6.5. Separação em Treino e Teste e Definição do Modelo - Este é um problema de aprendizado supervisionado ou não supervisionado?"
      ],
      "metadata": {
        "id": "4yBAsw7wzxwU"
      }
    },
    {
      "cell_type": "markdown",
      "source": [
        "Continuando o estudo indicaria um modelo de regressão linear de aprendizado supervisionado para que o robô ajude a identificar as restrições elétricas futuras."
      ],
      "metadata": {
        "id": "Tv86a6N80CZT"
      }
    },
    {
      "cell_type": "markdown",
      "source": [
        "# 7. CONCLUSÃO"
      ],
      "metadata": {
        "id": "Q7XzNkYPIAWc"
      }
    },
    {
      "cell_type": "markdown",
      "source": [
        "Através desse trabalho foi possivel identificar que os maiores afetados pelas restrições são os Estados do Nordeste, principalmente Rio Grande do Norte e Bahia.\n",
        "\n",
        "E essa limitação em sua maioria é para assegurar a confiabilidade do sistema e por questões de intervenções na rede de transmissão, podendo ser intervenções programadas ou não programadas.\n",
        "\n",
        "O Ideal para complementar esse trabalho seria trazer mais informações sobre a Rede Transmissão do SIN, principalmente aquelas que afetam diretamente o fluxo de energia eólica dessa região.\n",
        "\n",
        "Outro ponto importante seria complementar com as informações das usinas fotovoltaicas para serem analisadas juntamente com a eólica, pois se complementarm como fontes renováveis de energia.\n",
        "\n",
        "Com a comparação dos dados de geração verificada, geração limitada e disponibilidade é possível destacar a diferença absurda de disponibilidade e geração do estado do Rio Grande do Norte.\n",
        "\n",
        "Qual a razão para isso? Outros dados precisam ser cruzados, como por exemplo, se existem obras sendo realizadas para escoamento dessa energia que justifique a geração limitada para as usinas desse Estado no momento.\n",
        "\n",
        "O Brasil, nos últimos anos, tem investido muito em empreendimentos de energia renováveis, tornando um desafio para aqueles que planejam, operam e apuram o sistema. Além dos legisladores e reguladores, esse resultado abre um leque de gaps que exigem mais estudos, mais cruzamento de informações para ajudar a todos no melhor caminho para o novo SIN.\n",
        "Toda a energia de fonte renovável, mais barata para o consumidor, não deveria ser limitada e sim as energias de combustíveis não renováveis e poluentes, que deveriam ser acionados só em caso de urgencia, mas sabemos que toda a sociedade precisa estar embuida desse pensamento.\n"
      ],
      "metadata": {
        "id": "_VtaHaVV3e5P"
      }
    },
    {
      "cell_type": "code",
      "source": [],
      "metadata": {
        "id": "iKf4BshZIUOL"
      },
      "execution_count": null,
      "outputs": []
    }
  ]
}